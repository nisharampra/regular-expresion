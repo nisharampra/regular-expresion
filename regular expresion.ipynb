{
 "cells": [
  {
   "cell_type": "code",
   "execution_count": 1,
   "id": "0022f656",
   "metadata": {},
   "outputs": [],
   "source": [
    "text='the agents number is 405382-688755-2912. call soon'"
   ]
  },
  {
   "cell_type": "code",
   "execution_count": 2,
   "id": "13e5b99d",
   "metadata": {},
   "outputs": [
    {
     "data": {
      "text/plain": [
       "False"
      ]
     },
     "execution_count": 2,
     "metadata": {},
     "output_type": "execute_result"
    }
   ],
   "source": [
    "'phone' in text"
   ]
  },
  {
   "cell_type": "code",
   "execution_count": 3,
   "id": "e7f8b977",
   "metadata": {},
   "outputs": [
    {
     "data": {
      "text/plain": [
       "True"
      ]
     },
     "execution_count": 3,
     "metadata": {},
     "output_type": "execute_result"
    }
   ],
   "source": [
    "'number' in text"
   ]
  },
  {
   "cell_type": "code",
   "execution_count": 4,
   "id": "183eefc0",
   "metadata": {},
   "outputs": [],
   "source": [
    "import re"
   ]
  },
  {
   "cell_type": "code",
   "execution_count": 7,
   "id": "ed368545",
   "metadata": {},
   "outputs": [],
   "source": [
    "pattern='number'"
   ]
  },
  {
   "cell_type": "code",
   "execution_count": 8,
   "id": "fbcbc1da",
   "metadata": {},
   "outputs": [
    {
     "data": {
      "text/plain": [
       "<re.Match object; span=(11, 17), match='number'>"
      ]
     },
     "execution_count": 8,
     "metadata": {},
     "output_type": "execute_result"
    }
   ],
   "source": [
    "re.search(pattern,text)"
   ]
  },
  {
   "cell_type": "code",
   "execution_count": 11,
   "id": "1e7042de",
   "metadata": {},
   "outputs": [],
   "source": [
    "pattern='not in text'"
   ]
  },
  {
   "cell_type": "code",
   "execution_count": 12,
   "id": "67788a66",
   "metadata": {},
   "outputs": [],
   "source": [
    "re.search(pattern,text)"
   ]
  },
  {
   "cell_type": "code",
   "execution_count": 17,
   "id": "de271267",
   "metadata": {},
   "outputs": [],
   "source": [
    "pattern='number'"
   ]
  },
  {
   "cell_type": "code",
   "execution_count": 18,
   "id": "5415a039",
   "metadata": {},
   "outputs": [],
   "source": [
    "match=re.search(pattern,text)"
   ]
  },
  {
   "cell_type": "code",
   "execution_count": 19,
   "id": "0470072f",
   "metadata": {},
   "outputs": [
    {
     "data": {
      "text/plain": [
       "<re.Match object; span=(11, 17), match='number'>"
      ]
     },
     "execution_count": 19,
     "metadata": {},
     "output_type": "execute_result"
    }
   ],
   "source": [
    "match"
   ]
  },
  {
   "cell_type": "code",
   "execution_count": 24,
   "id": "12383329",
   "metadata": {},
   "outputs": [
    {
     "data": {
      "text/plain": [
       "(11, 17)"
      ]
     },
     "execution_count": 24,
     "metadata": {},
     "output_type": "execute_result"
    }
   ],
   "source": [
    "match.span()"
   ]
  },
  {
   "cell_type": "code",
   "execution_count": 25,
   "id": "8b90bd39",
   "metadata": {},
   "outputs": [
    {
     "data": {
      "text/plain": [
       "11"
      ]
     },
     "execution_count": 25,
     "metadata": {},
     "output_type": "execute_result"
    }
   ],
   "source": [
    "match.start()"
   ]
  },
  {
   "cell_type": "code",
   "execution_count": 26,
   "id": "ab708dfc",
   "metadata": {},
   "outputs": [
    {
     "data": {
      "text/plain": [
       "17"
      ]
     },
     "execution_count": 26,
     "metadata": {},
     "output_type": "execute_result"
    }
   ],
   "source": [
    "match.end()"
   ]
  },
  {
   "cell_type": "code",
   "execution_count": 27,
   "id": "152c145c",
   "metadata": {},
   "outputs": [],
   "source": [
    "text='y phone number once, my phone number twice'"
   ]
  },
  {
   "cell_type": "code",
   "execution_count": 28,
   "id": "293fd25e",
   "metadata": {},
   "outputs": [],
   "source": [
    "match=re.search('phone',text)"
   ]
  },
  {
   "cell_type": "code",
   "execution_count": 29,
   "id": "1ef0115a",
   "metadata": {},
   "outputs": [
    {
     "data": {
      "text/plain": [
       "<re.Match object; span=(2, 7), match='phone'>"
      ]
     },
     "execution_count": 29,
     "metadata": {},
     "output_type": "execute_result"
    }
   ],
   "source": [
    "match"
   ]
  },
  {
   "cell_type": "markdown",
   "id": "1a4307b8",
   "metadata": {},
   "source": [
    "mathces=re.findall('phone',text)"
   ]
  },
  {
   "cell_type": "code",
   "execution_count": 31,
   "id": "f07b1f2c",
   "metadata": {},
   "outputs": [
    {
     "data": {
      "text/plain": [
       "['phone', 'phone']"
      ]
     },
     "execution_count": 31,
     "metadata": {},
     "output_type": "execute_result"
    }
   ],
   "source": [
    "mathces"
   ]
  },
  {
   "cell_type": "code",
   "execution_count": 32,
   "id": "329ae5b1",
   "metadata": {},
   "outputs": [
    {
     "data": {
      "text/plain": [
       "2"
      ]
     },
     "execution_count": 32,
     "metadata": {},
     "output_type": "execute_result"
    }
   ],
   "source": [
    "len(mathces)"
   ]
  },
  {
   "cell_type": "code",
   "execution_count": 37,
   "id": "3cfe9066",
   "metadata": {},
   "outputs": [
    {
     "name": "stdout",
     "output_type": "stream",
     "text": [
      "<re.Match object; span=(2, 7), match='phone'>\n",
      "<re.Match object; span=(24, 29), match='phone'>\n"
     ]
    }
   ],
   "source": [
    "for match in re.finditer('phone',text):\n",
    "    print(match)"
   ]
  },
  {
   "cell_type": "code",
   "execution_count": 38,
   "id": "2ddcf4ee",
   "metadata": {},
   "outputs": [
    {
     "name": "stdout",
     "output_type": "stream",
     "text": [
      "(2, 7)\n",
      "(24, 29)\n"
     ]
    }
   ],
   "source": [
    "for match in re.finditer('phone',text):\n",
    "    print(match.span())"
   ]
  },
  {
   "attachments": {
    "image-2.png": {
     "image/png": "[encoded data removed]"
    }
   },
   "cell_type": "markdown",
   "id": "7d25c165",
   "metadata": {},
   "source": [
    "![image-2.png](attachment:image-2.png)"
   ]
  },
  {
   "cell_type": "markdown",
   "id": "2dbafa22",
   "metadata": {},
   "source": []
  },
  {
   "cell_type": "code",
   "execution_count": 39,
   "id": "8236510f",
   "metadata": {},
   "outputs": [],
   "source": [
    "text='my phone number is 406-284-59979-9393'"
   ]
  },
  {
   "cell_type": "code",
   "execution_count": 42,
   "id": "03cc0699",
   "metadata": {},
   "outputs": [],
   "source": [
    "phone=re.search('406-284-59979-9393',text)"
   ]
  },
  {
   "cell_type": "code",
   "execution_count": 43,
   "id": "abd5b5e7",
   "metadata": {},
   "outputs": [
    {
     "data": {
      "text/plain": [
       "<re.Match object; span=(19, 37), match='406-284-59979-9393'>"
      ]
     },
     "execution_count": 43,
     "metadata": {},
     "output_type": "execute_result"
    }
   ],
   "source": [
    "phone"
   ]
  },
  {
   "cell_type": "code",
   "execution_count": 44,
   "id": "22e6f353",
   "metadata": {},
   "outputs": [],
   "source": [
    "################ Quantiflyier "
   ]
  },
  {
   "cell_type": "code",
   "execution_count": 45,
   "id": "d3f36614",
   "metadata": {},
   "outputs": [],
   "source": [
    "text='my phone number is 406'"
   ]
  },
  {
   "cell_type": "code",
   "execution_count": 49,
   "id": "35c15867",
   "metadata": {},
   "outputs": [],
   "source": [
    "phone=re.search(r'\\d\\d\\d',text)"
   ]
  },
  {
   "cell_type": "code",
   "execution_count": 50,
   "id": "650421db",
   "metadata": {},
   "outputs": [
    {
     "data": {
      "text/plain": [
       "<re.Match object; span=(19, 22), match='406'>"
      ]
     },
     "execution_count": 50,
     "metadata": {},
     "output_type": "execute_result"
    }
   ],
   "source": [
    "phone"
   ]
  },
  {
   "cell_type": "code",
   "execution_count": 51,
   "id": "9223060b",
   "metadata": {},
   "outputs": [
    {
     "data": {
      "text/plain": [
       "'406'"
      ]
     },
     "execution_count": 51,
     "metadata": {},
     "output_type": "execute_result"
    }
   ],
   "source": [
    "phone.group()"
   ]
  },
  {
   "cell_type": "code",
   "execution_count": 54,
   "id": "d91e3ec5",
   "metadata": {},
   "outputs": [],
   "source": [
    "phone_pattern = re.compile(r'(\\d{3})-(\\d{3})-(\\d{3})')\n"
   ]
  },
  {
   "cell_type": "code",
   "execution_count": 55,
   "id": "bb5f34ba",
   "metadata": {},
   "outputs": [],
   "source": [
    "results=re.search(phone_pattern,text)"
   ]
  },
  {
   "cell_type": "code",
   "execution_count": 57,
   "id": "87f4eda6",
   "metadata": {},
   "outputs": [
    {
     "ename": "AttributeError",
     "evalue": "'NoneType' object has no attribute 'group'",
     "output_type": "error",
     "traceback": [
      "\u001b[0;31m---------------------------------------------------------------------------\u001b[0m",
      "\u001b[0;31mAttributeError\u001b[0m                            Traceback (most recent call last)",
      "Cell \u001b[0;32mIn[57], line 1\u001b[0m\n\u001b[0;32m----> 1\u001b[0m results\u001b[38;5;241m.\u001b[39mgroup(\u001b[38;5;241m2\u001b[39m)\n",
      "\u001b[0;31mAttributeError\u001b[0m: 'NoneType' object has no attribute 'group'"
     ]
    }
   ],
   "source": [
    "results.group(2)"
   ]
  },
  {
   "cell_type": "markdown",
   "id": "547d5345",
   "metadata": {},
   "source": [
    "additional regec syntax"
   ]
  },
  {
   "cell_type": "markdown",
   "id": "9f83c2ac",
   "metadata": {},
   "source": [
    "# additional regec syntax"
   ]
  },
  {
   "cell_type": "code",
   "execution_count": 58,
   "id": "a9d29c93",
   "metadata": {},
   "outputs": [
    {
     "data": {
      "text/plain": [
       "<re.Match object; span=(4, 7), match='cat'>"
      ]
     },
     "execution_count": 58,
     "metadata": {},
     "output_type": "execute_result"
    }
   ],
   "source": [
    "re.search(r'cat|dog','the cat is here')"
   ]
  },
  {
   "cell_type": "code",
   "execution_count": 61,
   "id": "8a7187bb",
   "metadata": {},
   "outputs": [
    {
     "data": {
      "text/plain": [
       "['at', 'at', 'at']"
      ]
     },
     "execution_count": 61,
     "metadata": {},
     "output_type": "execute_result"
    }
   ],
   "source": [
    "re.findall(r'at','the cat is in the hat sat there')"
   ]
  },
  {
   "cell_type": "code",
   "execution_count": 62,
   "id": "0286ab3c",
   "metadata": {},
   "outputs": [
    {
     "data": {
      "text/plain": [
       "[' cat', ' hat', ' sat']"
      ]
     },
     "execution_count": 62,
     "metadata": {},
     "output_type": "execute_result"
    }
   ],
   "source": [
    "re.findall(r' .at','the cat is in the hat sat there')"
   ]
  },
  {
   "cell_type": "code",
   "execution_count": 67,
   "id": "b4936c04",
   "metadata": {},
   "outputs": [
    {
     "data": {
      "text/plain": [
       "[' splat']"
      ]
     },
     "execution_count": 67,
     "metadata": {},
     "output_type": "execute_result"
    }
   ],
   "source": [
    "re.findall(r' ...at','the cat  in the hat went splat.')"
   ]
  },
  {
   "cell_type": "code",
   "execution_count": 68,
   "id": "6ea85b26",
   "metadata": {},
   "outputs": [
    {
     "data": {
      "text/plain": [
       "[]"
      ]
     },
     "execution_count": 68,
     "metadata": {},
     "output_type": "execute_result"
    }
   ],
   "source": [
    "re.findall(r'^\\d','the number is 2')"
   ]
  },
  {
   "cell_type": "code",
   "execution_count": null,
   "id": "a7eab132",
   "metadata": {},
   "outputs": [],
   "source": []
  },
  {
   "cell_type": "code",
   "execution_count": null,
   "id": "e579617d",
   "metadata": {},
   "outputs": [],
   "source": []
  },
  {
   "cell_type": "code",
   "execution_count": 69,
   "id": "a70ba61c",
   "metadata": {},
   "outputs": [],
   "source": [
    "phrase='there are 3 numbers 34 inside 5 this sentence'"
   ]
  },
  {
   "cell_type": "code",
   "execution_count": 70,
   "id": "3269ba04",
   "metadata": {},
   "outputs": [],
   "source": [
    "pattern=r'[^\\d]'"
   ]
  },
  {
   "cell_type": "code",
   "execution_count": 72,
   "id": "c5ea35b5",
   "metadata": {},
   "outputs": [
    {
     "data": {
      "text/plain": [
       "['t',\n",
       " 'h',\n",
       " 'e',\n",
       " 'r',\n",
       " 'e',\n",
       " ' ',\n",
       " 'a',\n",
       " 'r',\n",
       " 'e',\n",
       " ' ',\n",
       " ' ',\n",
       " 'n',\n",
       " 'u',\n",
       " 'm',\n",
       " 'b',\n",
       " 'e',\n",
       " 'r',\n",
       " 's',\n",
       " ' ',\n",
       " ' ',\n",
       " 'i',\n",
       " 'n',\n",
       " 's',\n",
       " 'i',\n",
       " 'd',\n",
       " 'e',\n",
       " ' ',\n",
       " ' ',\n",
       " 't',\n",
       " 'h',\n",
       " 'i',\n",
       " 's',\n",
       " ' ',\n",
       " 's',\n",
       " 'e',\n",
       " 'n',\n",
       " 't',\n",
       " 'e',\n",
       " 'n',\n",
       " 'c',\n",
       " 'e']"
      ]
     },
     "execution_count": 72,
     "metadata": {},
     "output_type": "execute_result"
    }
   ],
   "source": [
    "re.findall(pattern,phrase)"
   ]
  },
  {
   "cell_type": "code",
   "execution_count": 73,
   "id": "8d35c4fd",
   "metadata": {},
   "outputs": [],
   "source": [
    "pattern=r'[^\\d]+'"
   ]
  },
  {
   "cell_type": "code",
   "execution_count": 74,
   "id": "a36368dc",
   "metadata": {},
   "outputs": [
    {
     "data": {
      "text/plain": [
       "['there are ', ' numbers ', ' inside ', ' this sentence']"
      ]
     },
     "execution_count": 74,
     "metadata": {},
     "output_type": "execute_result"
    }
   ],
   "source": [
    "re.findall(pattern,phrase)"
   ]
  },
  {
   "cell_type": "code",
   "execution_count": 75,
   "id": "65ef134e",
   "metadata": {},
   "outputs": [],
   "source": [
    "test_phrase='this is a string! But it has punctuation .how can we remove it?'"
   ]
  },
  {
   "cell_type": "code",
   "execution_count": 78,
   "id": "ee726155",
   "metadata": {},
   "outputs": [
    {
     "data": {
      "text/plain": [
       "['this is a string', ' But it has punctuation .how can we remove it']"
      ]
     },
     "execution_count": 78,
     "metadata": {},
     "output_type": "execute_result"
    }
   ],
   "source": [
    "re.findall(r'[^!?]+',test_phrase)"
   ]
  },
  {
   "cell_type": "code",
   "execution_count": 79,
   "id": "9e99885e",
   "metadata": {},
   "outputs": [
    {
     "data": {
      "text/plain": [
       "['this is a string', ' But it has punctuation ', 'how can we remove it']"
      ]
     },
     "execution_count": 79,
     "metadata": {},
     "output_type": "execute_result"
    }
   ],
   "source": [
    "re.findall(r'[^!?.]+',test_phrase)"
   ]
  },
  {
   "cell_type": "code",
   "execution_count": 83,
   "id": "b6c55754",
   "metadata": {},
   "outputs": [],
   "source": [
    "test_phrase='this is a string! But it has punctuation .how can we remove it?'"
   ]
  },
  {
   "cell_type": "code",
   "execution_count": 84,
   "id": "173bbb08",
   "metadata": {},
   "outputs": [],
   "source": [
    "clean=re.findall(r'[^!.?]+',test_phrase)"
   ]
  },
  {
   "cell_type": "code",
   "execution_count": 85,
   "id": "4cfea979",
   "metadata": {},
   "outputs": [
    {
     "data": {
      "text/plain": [
       "'this is a string But it has punctuation how can we remove it'"
      ]
     },
     "execution_count": 85,
     "metadata": {},
     "output_type": "execute_result"
    }
   ],
   "source": [
    "''.join(clean)"
   ]
  },
  {
   "cell_type": "code",
   "execution_count": null,
   "id": "3b01b012",
   "metadata": {},
   "outputs": [],
   "source": []
  },
  {
   "cell_type": "code",
   "execution_count": 91,
   "id": "f0867035",
   "metadata": {},
   "outputs": [],
   "source": [
    "text='This is a sample-text sentence for Python-testing. Hyphenated-words are common in programming-language and text-processing tasks. The quick-brown-fox jumps over the lazy-dog. Python is an easy-to-learn, versatile programming-language that is widely-used in  and data-analysis.'\n"
   ]
  },
  {
   "cell_type": "code",
   "execution_count": 97,
   "id": "31487b2b",
   "metadata": {},
   "outputs": [],
   "source": [
    "pattern=r'[\\w]+-[\\w]+'"
   ]
  },
  {
   "cell_type": "code",
   "execution_count": 98,
   "id": "7d845319",
   "metadata": {},
   "outputs": [
    {
     "data": {
      "text/plain": [
       "['sample-text',\n",
       " 'Python-testing',\n",
       " 'Hyphenated-words',\n",
       " 'programming-language',\n",
       " 'text-processing',\n",
       " 'quick-brown',\n",
       " 'lazy-dog',\n",
       " 'easy-to',\n",
       " 'programming-language',\n",
       " 'widely-used',\n",
       " 'data-analysis']"
      ]
     },
     "execution_count": 98,
     "metadata": {},
     "output_type": "execute_result"
    }
   ],
   "source": [
    "re.findall(pattern,text)"
   ]
  },
  {
   "cell_type": "code",
   "execution_count": null,
   "id": "dede9711",
   "metadata": {},
   "outputs": [],
   "source": []
  }
 ],
 "metadata": {
  "kernelspec": {
   "display_name": "Python 3 (ipykernel)",
   "language": "python",
   "name": "python3"
  },
  "language_info": {
   "codemirror_mode": {
    "name": "ipython",
    "version": 3
   },
   "file_extension": ".py",
   "mimetype": "text/x-python",
   "name": "python",
   "nbconvert_exporter": "python",
   "pygments_lexer": "ipython3",
   "version": "3.11.5"
  }
 },
 "nbformat": 4,
 "nbformat_minor": 5
}
